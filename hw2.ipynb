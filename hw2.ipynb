{
 "cells": [
  {
   "cell_type": "code",
   "execution_count": 1,
   "metadata": {},
   "outputs": [],
   "source": [
    "# import packages\n",
    "import numpy as np\n",
    "import matplotlib.pyplot as plt\n",
    "from matplotlib.table import Table"
   ]
  },
  {
   "cell_type": "code",
   "execution_count": 7,
   "metadata": {},
   "outputs": [],
   "source": [
    "# constants\n",
    "GAMMA = 0.9\n",
    "WORLD_SIZE = 5\n",
    "ACTIONS = [(1,0), (0,1), (-1,0), (0,-1)]"
   ]
  },
  {
   "cell_type": "code",
   "execution_count": 4,
   "metadata": {},
   "outputs": [],
   "source": [
    "# gridworld implementation\n",
    "class GridWorld:\n",
    "\n",
    "    def __init__(self, A=(0,1), Ap=(4,1), Ar=10, B=(0,3), Bp=(2,3), Br=5):\n",
    "        self.size = WORLD_SIZE\n",
    "        self.A = A\n",
    "        self.Ap = Ap\n",
    "        self.Ar = Ar\n",
    "        self.B = B\n",
    "        self.Bp = Bp\n",
    "        self.Br = Br\n",
    "\n",
    "    def step(self, state, action):\n",
    "        if state == self.A: return self.Ap, self.Ar\n",
    "        if state == self.B: return self.Bp, self.Br\n",
    "        s0, s1 = state\n",
    "        a0, a1 = action\n",
    "        x, y = s0 + a0, s1 + a1\n",
    "        if x < 0 or y < 0 or x >= self.size or y >= self.size: return state, -1\n",
    "        return (x, y), 0"
   ]
  },
  {
   "cell_type": "code",
   "execution_count": 5,
   "metadata": {},
   "outputs": [],
   "source": [
    "# value iteration implementation\n",
    "def value_iteration(env):\n",
    "    v = np.zeros((WORLD_SIZE, WORLD_SIZE))\n",
    "    delta = np.inf\n",
    "    while delta > 1e-4:\n",
    "        vp = np.zeros_like(v)\n",
    "        for i in range(WORLD_SIZE):\n",
    "            for j in range(WORLD_SIZE):\n",
    "                for action in ACTIONS:\n",
    "                    (x, y), reward = env.step((i,j), action)\n",
    "                    vp[i, j] = max(vp[i, j], reward + GAMMA * v[x, y])\n",
    "        delta = np.sum(np.abs(vp - v))\n",
    "        v = vp\n",
    "    return v"
   ]
  },
  {
   "cell_type": "code",
   "execution_count": 10,
   "metadata": {},
   "outputs": [],
   "source": [
    "# generate data\n",
    "env = GridWorld()\n",
    "v_star = value_iteration(env)"
   ]
  },
  {
   "cell_type": "code",
   "execution_count": 11,
   "metadata": {},
   "outputs": [
    {
     "data": {
      "image/png": "[encoded data removed]",
      "text/plain": [
       "<Figure size 600x600 with 1 Axes>"
      ]
     },
     "metadata": {},
     "output_type": "display_data"
    }
   ],
   "source": [
    "# generate figure 2.3\n",
    "fig, ax = plt.subplots(figsize=(6, 6))\n",
    "ax.set_axis_off()\n",
    "tb = Table(ax)\n",
    "\n",
    "for i in range(WORLD_SIZE):\n",
    "    for j in range(WORLD_SIZE):\n",
    "        tb.add_cell(i, j, 0.2, 0.2, text=np.round(v_star[i][j], 1), loc='center')\n",
    "\n",
    "ax.add_table(tb)\n",
    "    \n",
    "plt.show()"
   ]
  }
 ],
 "metadata": {
  "kernelspec": {
   "display_name": "Python 3",
   "language": "python",
   "name": "python3"
  },
  "language_info": {
   "codemirror_mode": {
    "name": "ipython",
    "version": 3
   },
   "file_extension": ".py",
   "mimetype": "text/x-python",
   "name": "python",
   "nbconvert_exporter": "python",
   "pygments_lexer": "ipython3",
   "version": "3.12.4"
  }
 },
 "nbformat": 4,
 "nbformat_minor": 2
}
