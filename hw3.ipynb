{
 "cells": [
  {
   "cell_type": "code",
   "execution_count": 6,
   "metadata": {},
   "outputs": [],
   "source": [
    "# import packages\n",
    "import numpy as np"
   ]
  },
  {
   "cell_type": "code",
   "execution_count": 9,
   "metadata": {},
   "outputs": [],
   "source": [
    "# constants\n",
    "LEFT, RIGHT = 0, 1\n",
    "START, END = 0, 1"
   ]
  },
  {
   "cell_type": "code",
   "execution_count": null,
   "metadata": {},
   "outputs": [],
   "source": [
    "# environment implementation\n",
    "class Environment:\n",
    "    def __init__(self):\n",
    "        self.reset()\n",
    "\n",
    "    def reset(self):\n",
    "        self.state = START\n",
    "        return self.state\n",
    "\n",
    "    def step(self, action):\n",
    "        if action == RIGHT:\n",
    "            reward = 0.0\n",
    "            self.state = END\n",
    "        else:\n",
    "            if np.random.rand() < 0.9:\n",
    "                reward = 0.0\n",
    "                self.state = START\n",
    "            else:\n",
    "                reward = 1.0\n",
    "                self.state = END\n",
    "        return reward, self.state"
   ]
  },
  {
   "cell_type": "code",
   "execution_count": null,
   "metadata": {},
   "outputs": [],
   "source": [
    "# agent implementation\n",
    "class Agent:\n",
    "    def __init__(self, IS='OIS'):\n",
    "        self.IS = IS\n",
    "        self.rewards = []\n",
    "        self.rho = 0\n",
    "        self.t = 0\n",
    "\n",
    "    def act(self):\n",
    "        action = LEFT if np.random.rand() < 0.5 else RIGHT\n",
    "        self.t += 1\n",
    "        return action\n",
    "    \n",
    "    def learn(self, state, action, reward, next_state):\n",
    "        self.rho = 0 if action == RIGHT else 1.0 / (0.5 ** self.t)\n",
    "        self.rho = 1.0 / pow(0.5, len(trajectory))"
   ]
  },
  {
   "cell_type": "code",
   "execution_count": null,
   "metadata": {},
   "outputs": [],
   "source": [
    "for trial in np.arange(1e3):\n",
    "    agent = Agent()\n",
    "    env = Environment()\n",
    "    state = env.reset()\n",
    "    done = False\n",
    "    for t in np.arange(1e4):\n",
    "        if done:\n",
    "            state = env.reset()\n",
    "        action = agent.act(state)\n",
    "        reward, next_state, done = env.step(action)\n",
    "        agent.learn(state, reward, next_state, done)"
   ]
  },
  {
   "cell_type": "code",
   "execution_count": null,
   "metadata": {},
   "outputs": [],
   "source": []
  }
 ],
 "metadata": {
  "kernelspec": {
   "display_name": "Python 3",
   "language": "python",
   "name": "python3"
  },
  "language_info": {
   "codemirror_mode": {
    "name": "ipython",
    "version": 3
   },
   "file_extension": ".py",
   "mimetype": "text/x-python",
   "name": "python",
   "nbconvert_exporter": "python",
   "pygments_lexer": "ipython3",
   "version": "3.12.4"
  }
 },
 "nbformat": 4,
 "nbformat_minor": 2
}
